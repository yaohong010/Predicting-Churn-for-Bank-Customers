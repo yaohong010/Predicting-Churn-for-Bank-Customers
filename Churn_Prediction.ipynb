{
  "nbformat": 4,
  "nbformat_minor": 0,
  "metadata": {
    "colab": {
      "name": "Churn Prediction.ipynb",
      "provenance": [],
      "collapsed_sections": []
    },
    "kernelspec": {
      "name": "python3",
      "display_name": "Python 3"
    },
    "language_info": {
      "name": "python"
    }
  },
  "cells": [
    {
      "cell_type": "markdown",
      "source": [
        "# Contents\n",
        "\n",
        "1. Data Exploration \n",
        "2. Feature Engineering\n",
        "\n",
        "   2.1 Split the Data\n",
        "\n",
        "   2.2 Transform Features\n",
        "\n",
        "   2.3 Oversampling (SMOTE)\n",
        "\n",
        "3. Modeling and Evaluation\n",
        "\n",
        "   3.1 Training Model\n",
        "\n",
        "   3.2 Tunning Hyperparameters\n",
        "\n",
        "   3.3 Evaluation\n",
        "\n",
        "4. Feature Importance Analysis"
      ],
      "metadata": {
        "id": "Pp51-tV4FFk7"
      }
    },
    {
      "cell_type": "markdown",
      "source": [
        "## Part 0: Loading Data"
      ],
      "metadata": {
        "id": "JmS1Z-eGFplK"
      }
    },
    {
      "cell_type": "code",
      "source": [
        "from google.colab import drive\n",
        "drive.mount('/content/drive')"
      ],
      "metadata": {
        "colab": {
          "base_uri": "https://localhost:8080/"
        },
        "id": "0K_zQNyZGbgb",
        "outputId": "e2f61495-ca2a-4995-cb3a-b181e594cd00"
      },
      "execution_count": 1,
      "outputs": [
        {
          "output_type": "stream",
          "name": "stdout",
          "text": [
            "Drive already mounted at /content/drive; to attempt to forcibly remount, call drive.mount(\"/content/drive\", force_remount=True).\n"
          ]
        }
      ]
    },
    {
      "cell_type": "code",
      "source": [
        "%cd /content/drive/My Drive/Colab Notebooks"
      ],
      "metadata": {
        "colab": {
          "base_uri": "https://localhost:8080/"
        },
        "id": "EhKZvNlIGt3G",
        "outputId": "73c6f9a3-1bde-48c0-9189-5ecde1989b13"
      },
      "execution_count": 2,
      "outputs": [
        {
          "output_type": "stream",
          "name": "stdout",
          "text": [
            "/content/drive/My Drive/Colab Notebooks\n"
          ]
        }
      ]
    },
    {
      "cell_type": "code",
      "execution_count": 6,
      "metadata": {
        "id": "NmA91X_KE-DP"
      },
      "outputs": [],
      "source": [
        "import pandas as pd\n",
        "import numpy as np\n",
        "\n",
        "df = pd.read_csv('bank_churn.csv')"
      ]
    },
    {
      "cell_type": "markdown",
      "source": [
        "## Part 1: Data Exploration"
      ],
      "metadata": {
        "id": "eF8QmmzDFtST"
      }
    },
    {
      "cell_type": "code",
      "source": [
        "df.describe()"
      ],
      "metadata": {
        "colab": {
          "base_uri": "https://localhost:8080/",
          "height": 364
        },
        "id": "8b7PJ4UZHD_s",
        "outputId": "7611d2d8-123b-4926-9015-e64e2335b9bb"
      },
      "execution_count": 7,
      "outputs": [
        {
          "output_type": "execute_result",
          "data": {
            "text/plain": [
              "        Unnamed: 0    RowNumber    CustomerId   CreditScore           Age  \\\n",
              "count  10000.00000  10000.00000  1.000000e+04  10000.000000  10000.000000   \n",
              "mean    4999.50000   5000.50000  1.569094e+07    650.528800     38.921800   \n",
              "std     2886.89568   2886.89568  7.193619e+04     96.653299     10.487806   \n",
              "min        0.00000      1.00000  1.556570e+07    350.000000     18.000000   \n",
              "25%     2499.75000   2500.75000  1.562853e+07    584.000000     32.000000   \n",
              "50%     4999.50000   5000.50000  1.569074e+07    652.000000     37.000000   \n",
              "75%     7499.25000   7500.25000  1.575323e+07    718.000000     44.000000   \n",
              "max     9999.00000  10000.00000  1.581569e+07    850.000000     92.000000   \n",
              "\n",
              "             Tenure        Balance  NumOfProducts    HasCrCard  \\\n",
              "count  10000.000000   10000.000000   10000.000000  10000.00000   \n",
              "mean       5.012800   76485.889288       1.530200      0.70550   \n",
              "std        2.892174   62397.405202       0.581654      0.45584   \n",
              "min        0.000000       0.000000       1.000000      0.00000   \n",
              "25%        3.000000       0.000000       1.000000      0.00000   \n",
              "50%        5.000000   97198.540000       1.000000      1.00000   \n",
              "75%        7.000000  127644.240000       2.000000      1.00000   \n",
              "max       10.000000  250898.090000       4.000000      1.00000   \n",
              "\n",
              "       IsActiveMember  EstimatedSalary        Exited  \n",
              "count    10000.000000     10000.000000  10000.000000  \n",
              "mean         0.515100    100090.239881      0.203700  \n",
              "std          0.499797     57510.492818      0.402769  \n",
              "min          0.000000        11.580000      0.000000  \n",
              "25%          0.000000     51002.110000      0.000000  \n",
              "50%          1.000000    100193.915000      0.000000  \n",
              "75%          1.000000    149388.247500      0.000000  \n",
              "max          1.000000    199992.480000      1.000000  "
            ],
            "text/html": [
              "\n",
              "  <div id=\"df-331c5fb7-521c-4a35-aecb-1ce99e6a1e4a\">\n",
              "    <div class=\"colab-df-container\">\n",
              "      <div>\n",
              "<style scoped>\n",
              "    .dataframe tbody tr th:only-of-type {\n",
              "        vertical-align: middle;\n",
              "    }\n",
              "\n",
              "    .dataframe tbody tr th {\n",
              "        vertical-align: top;\n",
              "    }\n",
              "\n",
              "    .dataframe thead th {\n",
              "        text-align: right;\n",
              "    }\n",
              "</style>\n",
              "<table border=\"1\" class=\"dataframe\">\n",
              "  <thead>\n",
              "    <tr style=\"text-align: right;\">\n",
              "      <th></th>\n",
              "      <th>Unnamed: 0</th>\n",
              "      <th>RowNumber</th>\n",
              "      <th>CustomerId</th>\n",
              "      <th>CreditScore</th>\n",
              "      <th>Age</th>\n",
              "      <th>Tenure</th>\n",
              "      <th>Balance</th>\n",
              "      <th>NumOfProducts</th>\n",
              "      <th>HasCrCard</th>\n",
              "      <th>IsActiveMember</th>\n",
              "      <th>EstimatedSalary</th>\n",
              "      <th>Exited</th>\n",
              "    </tr>\n",
              "  </thead>\n",
              "  <tbody>\n",
              "    <tr>\n",
              "      <th>count</th>\n",
              "      <td>10000.00000</td>\n",
              "      <td>10000.00000</td>\n",
              "      <td>1.000000e+04</td>\n",
              "      <td>10000.000000</td>\n",
              "      <td>10000.000000</td>\n",
              "      <td>10000.000000</td>\n",
              "      <td>10000.000000</td>\n",
              "      <td>10000.000000</td>\n",
              "      <td>10000.00000</td>\n",
              "      <td>10000.000000</td>\n",
              "      <td>10000.000000</td>\n",
              "      <td>10000.000000</td>\n",
              "    </tr>\n",
              "    <tr>\n",
              "      <th>mean</th>\n",
              "      <td>4999.50000</td>\n",
              "      <td>5000.50000</td>\n",
              "      <td>1.569094e+07</td>\n",
              "      <td>650.528800</td>\n",
              "      <td>38.921800</td>\n",
              "      <td>5.012800</td>\n",
              "      <td>76485.889288</td>\n",
              "      <td>1.530200</td>\n",
              "      <td>0.70550</td>\n",
              "      <td>0.515100</td>\n",
              "      <td>100090.239881</td>\n",
              "      <td>0.203700</td>\n",
              "    </tr>\n",
              "    <tr>\n",
              "      <th>std</th>\n",
              "      <td>2886.89568</td>\n",
              "      <td>2886.89568</td>\n",
              "      <td>7.193619e+04</td>\n",
              "      <td>96.653299</td>\n",
              "      <td>10.487806</td>\n",
              "      <td>2.892174</td>\n",
              "      <td>62397.405202</td>\n",
              "      <td>0.581654</td>\n",
              "      <td>0.45584</td>\n",
              "      <td>0.499797</td>\n",
              "      <td>57510.492818</td>\n",
              "      <td>0.402769</td>\n",
              "    </tr>\n",
              "    <tr>\n",
              "      <th>min</th>\n",
              "      <td>0.00000</td>\n",
              "      <td>1.00000</td>\n",
              "      <td>1.556570e+07</td>\n",
              "      <td>350.000000</td>\n",
              "      <td>18.000000</td>\n",
              "      <td>0.000000</td>\n",
              "      <td>0.000000</td>\n",
              "      <td>1.000000</td>\n",
              "      <td>0.00000</td>\n",
              "      <td>0.000000</td>\n",
              "      <td>11.580000</td>\n",
              "      <td>0.000000</td>\n",
              "    </tr>\n",
              "    <tr>\n",
              "      <th>25%</th>\n",
              "      <td>2499.75000</td>\n",
              "      <td>2500.75000</td>\n",
              "      <td>1.562853e+07</td>\n",
              "      <td>584.000000</td>\n",
              "      <td>32.000000</td>\n",
              "      <td>3.000000</td>\n",
              "      <td>0.000000</td>\n",
              "      <td>1.000000</td>\n",
              "      <td>0.00000</td>\n",
              "      <td>0.000000</td>\n",
              "      <td>51002.110000</td>\n",
              "      <td>0.000000</td>\n",
              "    </tr>\n",
              "    <tr>\n",
              "      <th>50%</th>\n",
              "      <td>4999.50000</td>\n",
              "      <td>5000.50000</td>\n",
              "      <td>1.569074e+07</td>\n",
              "      <td>652.000000</td>\n",
              "      <td>37.000000</td>\n",
              "      <td>5.000000</td>\n",
              "      <td>97198.540000</td>\n",
              "      <td>1.000000</td>\n",
              "      <td>1.00000</td>\n",
              "      <td>1.000000</td>\n",
              "      <td>100193.915000</td>\n",
              "      <td>0.000000</td>\n",
              "    </tr>\n",
              "    <tr>\n",
              "      <th>75%</th>\n",
              "      <td>7499.25000</td>\n",
              "      <td>7500.25000</td>\n",
              "      <td>1.575323e+07</td>\n",
              "      <td>718.000000</td>\n",
              "      <td>44.000000</td>\n",
              "      <td>7.000000</td>\n",
              "      <td>127644.240000</td>\n",
              "      <td>2.000000</td>\n",
              "      <td>1.00000</td>\n",
              "      <td>1.000000</td>\n",
              "      <td>149388.247500</td>\n",
              "      <td>0.000000</td>\n",
              "    </tr>\n",
              "    <tr>\n",
              "      <th>max</th>\n",
              "      <td>9999.00000</td>\n",
              "      <td>10000.00000</td>\n",
              "      <td>1.581569e+07</td>\n",
              "      <td>850.000000</td>\n",
              "      <td>92.000000</td>\n",
              "      <td>10.000000</td>\n",
              "      <td>250898.090000</td>\n",
              "      <td>4.000000</td>\n",
              "      <td>1.00000</td>\n",
              "      <td>1.000000</td>\n",
              "      <td>199992.480000</td>\n",
              "      <td>1.000000</td>\n",
              "    </tr>\n",
              "  </tbody>\n",
              "</table>\n",
              "</div>\n",
              "      <button class=\"colab-df-convert\" onclick=\"convertToInteractive('df-331c5fb7-521c-4a35-aecb-1ce99e6a1e4a')\"\n",
              "              title=\"Convert this dataframe to an interactive table.\"\n",
              "              style=\"display:none;\">\n",
              "        \n",
              "  <svg xmlns=\"http://www.w3.org/2000/svg\" height=\"24px\"viewBox=\"0 0 24 24\"\n",
              "       width=\"24px\">\n",
              "    <path d=\"M0 0h24v24H0V0z\" fill=\"none\"/>\n",
              "    <path d=\"M18.56 5.44l.94 2.06.94-2.06 2.06-.94-2.06-.94-.94-2.06-.94 2.06-2.06.94zm-11 1L8.5 8.5l.94-2.06 2.06-.94-2.06-.94L8.5 2.5l-.94 2.06-2.06.94zm10 10l.94 2.06.94-2.06 2.06-.94-2.06-.94-.94-2.06-.94 2.06-2.06.94z\"/><path d=\"M17.41 7.96l-1.37-1.37c-.4-.4-.92-.59-1.43-.59-.52 0-1.04.2-1.43.59L10.3 9.45l-7.72 7.72c-.78.78-.78 2.05 0 2.83L4 21.41c.39.39.9.59 1.41.59.51 0 1.02-.2 1.41-.59l7.78-7.78 2.81-2.81c.8-.78.8-2.07 0-2.86zM5.41 20L4 18.59l7.72-7.72 1.47 1.35L5.41 20z\"/>\n",
              "  </svg>\n",
              "      </button>\n",
              "      \n",
              "  <style>\n",
              "    .colab-df-container {\n",
              "      display:flex;\n",
              "      flex-wrap:wrap;\n",
              "      gap: 12px;\n",
              "    }\n",
              "\n",
              "    .colab-df-convert {\n",
              "      background-color: #E8F0FE;\n",
              "      border: none;\n",
              "      border-radius: 50%;\n",
              "      cursor: pointer;\n",
              "      display: none;\n",
              "      fill: #1967D2;\n",
              "      height: 32px;\n",
              "      padding: 0 0 0 0;\n",
              "      width: 32px;\n",
              "    }\n",
              "\n",
              "    .colab-df-convert:hover {\n",
              "      background-color: #E2EBFA;\n",
              "      box-shadow: 0px 1px 2px rgba(60, 64, 67, 0.3), 0px 1px 3px 1px rgba(60, 64, 67, 0.15);\n",
              "      fill: #174EA6;\n",
              "    }\n",
              "\n",
              "    [theme=dark] .colab-df-convert {\n",
              "      background-color: #3B4455;\n",
              "      fill: #D2E3FC;\n",
              "    }\n",
              "\n",
              "    [theme=dark] .colab-df-convert:hover {\n",
              "      background-color: #434B5C;\n",
              "      box-shadow: 0px 1px 3px 1px rgba(0, 0, 0, 0.15);\n",
              "      filter: drop-shadow(0px 1px 2px rgba(0, 0, 0, 0.3));\n",
              "      fill: #FFFFFF;\n",
              "    }\n",
              "  </style>\n",
              "\n",
              "      <script>\n",
              "        const buttonEl =\n",
              "          document.querySelector('#df-331c5fb7-521c-4a35-aecb-1ce99e6a1e4a button.colab-df-convert');\n",
              "        buttonEl.style.display =\n",
              "          google.colab.kernel.accessAllowed ? 'block' : 'none';\n",
              "\n",
              "        async function convertToInteractive(key) {\n",
              "          const element = document.querySelector('#df-331c5fb7-521c-4a35-aecb-1ce99e6a1e4a');\n",
              "          const dataTable =\n",
              "            await google.colab.kernel.invokeFunction('convertToInteractive',\n",
              "                                                     [key], {});\n",
              "          if (!dataTable) return;\n",
              "\n",
              "          const docLinkHtml = 'Like what you see? Visit the ' +\n",
              "            '<a target=\"_blank\" href=https://colab.research.google.com/notebooks/data_table.ipynb>data table notebook</a>'\n",
              "            + ' to learn more about interactive tables.';\n",
              "          element.innerHTML = '';\n",
              "          dataTable['output_type'] = 'display_data';\n",
              "          await google.colab.output.renderOutput(dataTable, element);\n",
              "          const docLink = document.createElement('div');\n",
              "          docLink.innerHTML = docLinkHtml;\n",
              "          element.appendChild(docLink);\n",
              "        }\n",
              "      </script>\n",
              "    </div>\n",
              "  </div>\n",
              "  "
            ]
          },
          "metadata": {},
          "execution_count": 7
        }
      ]
    },
    {
      "cell_type": "code",
      "source": [
        "df.info()"
      ],
      "metadata": {
        "colab": {
          "base_uri": "https://localhost:8080/"
        },
        "id": "8694DyJCHD9d",
        "outputId": "1320efc0-dab3-4608-a103-b73d3483ad0d"
      },
      "execution_count": 8,
      "outputs": [
        {
          "output_type": "stream",
          "name": "stdout",
          "text": [
            "<class 'pandas.core.frame.DataFrame'>\n",
            "RangeIndex: 10000 entries, 0 to 9999\n",
            "Data columns (total 15 columns):\n",
            " #   Column           Non-Null Count  Dtype  \n",
            "---  ------           --------------  -----  \n",
            " 0   Unnamed: 0       10000 non-null  int64  \n",
            " 1   RowNumber        10000 non-null  int64  \n",
            " 2   CustomerId       10000 non-null  int64  \n",
            " 3   Surname          10000 non-null  object \n",
            " 4   CreditScore      10000 non-null  int64  \n",
            " 5   Geography        10000 non-null  object \n",
            " 6   Gender           10000 non-null  object \n",
            " 7   Age              10000 non-null  int64  \n",
            " 8   Tenure           10000 non-null  int64  \n",
            " 9   Balance          10000 non-null  float64\n",
            " 10  NumOfProducts    10000 non-null  int64  \n",
            " 11  HasCrCard        10000 non-null  int64  \n",
            " 12  IsActiveMember   10000 non-null  int64  \n",
            " 13  EstimatedSalary  10000 non-null  float64\n",
            " 14  Exited           10000 non-null  int64  \n",
            "dtypes: float64(2), int64(10), object(3)\n",
            "memory usage: 1.1+ MB\n"
          ]
        }
      ]
    },
    {
      "cell_type": "code",
      "source": [
        "df.nunique()"
      ],
      "metadata": {
        "colab": {
          "base_uri": "https://localhost:8080/"
        },
        "id": "Cg_ylK2mHD4V",
        "outputId": "edf62c01-aacd-49e8-a2dc-aa805e5bf265"
      },
      "execution_count": 9,
      "outputs": [
        {
          "output_type": "execute_result",
          "data": {
            "text/plain": [
              "Unnamed: 0         10000\n",
              "RowNumber          10000\n",
              "CustomerId         10000\n",
              "Surname             2932\n",
              "CreditScore          460\n",
              "Geography              3\n",
              "Gender                 2\n",
              "Age                   70\n",
              "Tenure                11\n",
              "Balance             6382\n",
              "NumOfProducts          4\n",
              "HasCrCard              2\n",
              "IsActiveMember         2\n",
              "EstimatedSalary     9999\n",
              "Exited                 2\n",
              "dtype: int64"
            ]
          },
          "metadata": {},
          "execution_count": 9
        }
      ]
    },
    {
      "cell_type": "code",
      "source": [
        "df.isnull().sum()"
      ],
      "metadata": {
        "colab": {
          "base_uri": "https://localhost:8080/"
        },
        "id": "_AJrn5ZFIA44",
        "outputId": "d403a444-5b29-414e-ccd6-dab0becc3183"
      },
      "execution_count": 10,
      "outputs": [
        {
          "output_type": "execute_result",
          "data": {
            "text/plain": [
              "Unnamed: 0         0\n",
              "RowNumber          0\n",
              "CustomerId         0\n",
              "Surname            0\n",
              "CreditScore        0\n",
              "Geography          0\n",
              "Gender             0\n",
              "Age                0\n",
              "Tenure             0\n",
              "Balance            0\n",
              "NumOfProducts      0\n",
              "HasCrCard          0\n",
              "IsActiveMember     0\n",
              "EstimatedSalary    0\n",
              "Exited             0\n",
              "dtype: int64"
            ]
          },
          "metadata": {},
          "execution_count": 10
        }
      ]
    },
    {
      "cell_type": "code",
      "source": [
        "import matplotlib.pyplot as plt\n",
        "import seaborn as sns"
      ],
      "metadata": {
        "id": "g5zya-79IqDp"
      },
      "execution_count": 11,
      "outputs": []
    },
    {
      "cell_type": "code",
      "source": [
        "# Check target variable\n",
        "y = df['Exited']"
      ],
      "metadata": {
        "id": "DCOGOMPw_kOK"
      },
      "execution_count": 12,
      "outputs": []
    },
    {
      "cell_type": "code",
      "source": [
        "# imbalanced data\n",
        "sns.countplot(x = 'Exited', data = df)"
      ],
      "metadata": {
        "colab": {
          "base_uri": "https://localhost:8080/",
          "height": 296
        },
        "id": "j4A57Cw0_kL1",
        "outputId": "9c85dd3d-6e4c-46d6-b686-3b9294059e5e"
      },
      "execution_count": 13,
      "outputs": [
        {
          "output_type": "execute_result",
          "data": {
            "text/plain": [
              "<matplotlib.axes._subplots.AxesSubplot at 0x7fad89ca5c90>"
            ]
          },
          "metadata": {},
          "execution_count": 13
        },
        {
          "output_type": "display_data",
          "data": {
            "text/plain": [
              "<Figure size 432x288 with 1 Axes>"
            ],
            "image/png": "[encoded data removed]"
          },
          "metadata": {
            "needs_background": "light"
          }
        }
      ]
    },
    {
      "cell_type": "markdown",
      "source": [
        "It turns out that the ratio between the 2 classes in the target variable is very imbalanced. (4:1)"
      ],
      "metadata": {
        "id": "NuqQ4LMtBIPD"
      }
    },
    {
      "cell_type": "code",
      "source": [
        "# Check numerical features\n",
        "df[['CreditScore', 'Age', 'Tenure', 'NumOfProducts','Balance', 'EstimatedSalary']].describe()"
      ],
      "metadata": {
        "colab": {
          "base_uri": "https://localhost:8080/",
          "height": 300
        },
        "id": "7wnvmCE8IA2T",
        "outputId": "a4b4b21a-83f8-4ac4-83a1-aa8e0d6f475c"
      },
      "execution_count": 14,
      "outputs": [
        {
          "output_type": "execute_result",
          "data": {
            "text/plain": [
              "        CreditScore           Age        Tenure  NumOfProducts        Balance  \\\n",
              "count  10000.000000  10000.000000  10000.000000   10000.000000   10000.000000   \n",
              "mean     650.528800     38.921800      5.012800       1.530200   76485.889288   \n",
              "std       96.653299     10.487806      2.892174       0.581654   62397.405202   \n",
              "min      350.000000     18.000000      0.000000       1.000000       0.000000   \n",
              "25%      584.000000     32.000000      3.000000       1.000000       0.000000   \n",
              "50%      652.000000     37.000000      5.000000       1.000000   97198.540000   \n",
              "75%      718.000000     44.000000      7.000000       2.000000  127644.240000   \n",
              "max      850.000000     92.000000     10.000000       4.000000  250898.090000   \n",
              "\n",
              "       EstimatedSalary  \n",
              "count     10000.000000  \n",
              "mean     100090.239881  \n",
              "std       57510.492818  \n",
              "min          11.580000  \n",
              "25%       51002.110000  \n",
              "50%      100193.915000  \n",
              "75%      149388.247500  \n",
              "max      199992.480000  "
            ],
            "text/html": [
              "\n",
              "  <div id=\"df-1cdfd4eb-6560-4c39-8220-66c7ae74fca4\">\n",
              "    <div class=\"colab-df-container\">\n",
              "      <div>\n",
              "<style scoped>\n",
              "    .dataframe tbody tr th:only-of-type {\n",
              "        vertical-align: middle;\n",
              "    }\n",
              "\n",
              "    .dataframe tbody tr th {\n",
              "        vertical-align: top;\n",
              "    }\n",
              "\n",
              "    .dataframe thead th {\n",
              "        text-align: right;\n",
              "    }\n",
              "</style>\n",
              "<table border=\"1\" class=\"dataframe\">\n",
              "  <thead>\n",
              "    <tr style=\"text-align: right;\">\n",
              "      <th></th>\n",
              "      <th>CreditScore</th>\n",
              "      <th>Age</th>\n",
              "      <th>Tenure</th>\n",
              "      <th>NumOfProducts</th>\n",
              "      <th>Balance</th>\n",
              "      <th>EstimatedSalary</th>\n",
              "    </tr>\n",
              "  </thead>\n",
              "  <tbody>\n",
              "    <tr>\n",
              "      <th>count</th>\n",
              "      <td>10000.000000</td>\n",
              "      <td>10000.000000</td>\n",
              "      <td>10000.000000</td>\n",
              "      <td>10000.000000</td>\n",
              "      <td>10000.000000</td>\n",
              "      <td>10000.000000</td>\n",
              "    </tr>\n",
              "    <tr>\n",
              "      <th>mean</th>\n",
              "      <td>650.528800</td>\n",
              "      <td>38.921800</td>\n",
              "      <td>5.012800</td>\n",
              "      <td>1.530200</td>\n",
              "      <td>76485.889288</td>\n",
              "      <td>100090.239881</td>\n",
              "    </tr>\n",
              "    <tr>\n",
              "      <th>std</th>\n",
              "      <td>96.653299</td>\n",
              "      <td>10.487806</td>\n",
              "      <td>2.892174</td>\n",
              "      <td>0.581654</td>\n",
              "      <td>62397.405202</td>\n",
              "      <td>57510.492818</td>\n",
              "    </tr>\n",
              "    <tr>\n",
              "      <th>min</th>\n",
              "      <td>350.000000</td>\n",
              "      <td>18.000000</td>\n",
              "      <td>0.000000</td>\n",
              "      <td>1.000000</td>\n",
              "      <td>0.000000</td>\n",
              "      <td>11.580000</td>\n",
              "    </tr>\n",
              "    <tr>\n",
              "      <th>25%</th>\n",
              "      <td>584.000000</td>\n",
              "      <td>32.000000</td>\n",
              "      <td>3.000000</td>\n",
              "      <td>1.000000</td>\n",
              "      <td>0.000000</td>\n",
              "      <td>51002.110000</td>\n",
              "    </tr>\n",
              "    <tr>\n",
              "      <th>50%</th>\n",
              "      <td>652.000000</td>\n",
              "      <td>37.000000</td>\n",
              "      <td>5.000000</td>\n",
              "      <td>1.000000</td>\n",
              "      <td>97198.540000</td>\n",
              "      <td>100193.915000</td>\n",
              "    </tr>\n",
              "    <tr>\n",
              "      <th>75%</th>\n",
              "      <td>718.000000</td>\n",
              "      <td>44.000000</td>\n",
              "      <td>7.000000</td>\n",
              "      <td>2.000000</td>\n",
              "      <td>127644.240000</td>\n",
              "      <td>149388.247500</td>\n",
              "    </tr>\n",
              "    <tr>\n",
              "      <th>max</th>\n",
              "      <td>850.000000</td>\n",
              "      <td>92.000000</td>\n",
              "      <td>10.000000</td>\n",
              "      <td>4.000000</td>\n",
              "      <td>250898.090000</td>\n",
              "      <td>199992.480000</td>\n",
              "    </tr>\n",
              "  </tbody>\n",
              "</table>\n",
              "</div>\n",
              "      <button class=\"colab-df-convert\" onclick=\"convertToInteractive('df-1cdfd4eb-6560-4c39-8220-66c7ae74fca4')\"\n",
              "              title=\"Convert this dataframe to an interactive table.\"\n",
              "              style=\"display:none;\">\n",
              "        \n",
              "  <svg xmlns=\"http://www.w3.org/2000/svg\" height=\"24px\"viewBox=\"0 0 24 24\"\n",
              "       width=\"24px\">\n",
              "    <path d=\"M0 0h24v24H0V0z\" fill=\"none\"/>\n",
              "    <path d=\"M18.56 5.44l.94 2.06.94-2.06 2.06-.94-2.06-.94-.94-2.06-.94 2.06-2.06.94zm-11 1L8.5 8.5l.94-2.06 2.06-.94-2.06-.94L8.5 2.5l-.94 2.06-2.06.94zm10 10l.94 2.06.94-2.06 2.06-.94-2.06-.94-.94-2.06-.94 2.06-2.06.94z\"/><path d=\"M17.41 7.96l-1.37-1.37c-.4-.4-.92-.59-1.43-.59-.52 0-1.04.2-1.43.59L10.3 9.45l-7.72 7.72c-.78.78-.78 2.05 0 2.83L4 21.41c.39.39.9.59 1.41.59.51 0 1.02-.2 1.41-.59l7.78-7.78 2.81-2.81c.8-.78.8-2.07 0-2.86zM5.41 20L4 18.59l7.72-7.72 1.47 1.35L5.41 20z\"/>\n",
              "  </svg>\n",
              "      </button>\n",
              "      \n",
              "  <style>\n",
              "    .colab-df-container {\n",
              "      display:flex;\n",
              "      flex-wrap:wrap;\n",
              "      gap: 12px;\n",
              "    }\n",
              "\n",
              "    .colab-df-convert {\n",
              "      background-color: #E8F0FE;\n",
              "      border: none;\n",
              "      border-radius: 50%;\n",
              "      cursor: pointer;\n",
              "      display: none;\n",
              "      fill: #1967D2;\n",
              "      height: 32px;\n",
              "      padding: 0 0 0 0;\n",
              "      width: 32px;\n",
              "    }\n",
              "\n",
              "    .colab-df-convert:hover {\n",
              "      background-color: #E2EBFA;\n",
              "      box-shadow: 0px 1px 2px rgba(60, 64, 67, 0.3), 0px 1px 3px 1px rgba(60, 64, 67, 0.15);\n",
              "      fill: #174EA6;\n",
              "    }\n",
              "\n",
              "    [theme=dark] .colab-df-convert {\n",
              "      background-color: #3B4455;\n",
              "      fill: #D2E3FC;\n",
              "    }\n",
              "\n",
              "    [theme=dark] .colab-df-convert:hover {\n",
              "      background-color: #434B5C;\n",
              "      box-shadow: 0px 1px 3px 1px rgba(0, 0, 0, 0.15);\n",
              "      filter: drop-shadow(0px 1px 2px rgba(0, 0, 0, 0.3));\n",
              "      fill: #FFFFFF;\n",
              "    }\n",
              "  </style>\n",
              "\n",
              "      <script>\n",
              "        const buttonEl =\n",
              "          document.querySelector('#df-1cdfd4eb-6560-4c39-8220-66c7ae74fca4 button.colab-df-convert');\n",
              "        buttonEl.style.display =\n",
              "          google.colab.kernel.accessAllowed ? 'block' : 'none';\n",
              "\n",
              "        async function convertToInteractive(key) {\n",
              "          const element = document.querySelector('#df-1cdfd4eb-6560-4c39-8220-66c7ae74fca4');\n",
              "          const dataTable =\n",
              "            await google.colab.kernel.invokeFunction('convertToInteractive',\n",
              "                                                     [key], {});\n",
              "          if (!dataTable) return;\n",
              "\n",
              "          const docLinkHtml = 'Like what you see? Visit the ' +\n",
              "            '<a target=\"_blank\" href=https://colab.research.google.com/notebooks/data_table.ipynb>data table notebook</a>'\n",
              "            + ' to learn more about interactive tables.';\n",
              "          element.innerHTML = '';\n",
              "          dataTable['output_type'] = 'display_data';\n",
              "          await google.colab.output.renderOutput(dataTable, element);\n",
              "          const docLink = document.createElement('div');\n",
              "          docLink.innerHTML = docLinkHtml;\n",
              "          element.appendChild(docLink);\n",
              "        }\n",
              "      </script>\n",
              "    </div>\n",
              "  </div>\n",
              "  "
            ]
          },
          "metadata": {},
          "execution_count": 14
        }
      ]
    },
    {
      "cell_type": "code",
      "source": [
        "# making box plots\n",
        "fig,axs = plt.subplots(3,2, figsize=[15,10])\n",
        "fig.suptitle('Box Plots for Numerical Features')\n",
        "sns.boxplot(x='Exited', y ='CreditScore', data=df, ax=axs[0][0])\n",
        "sns.boxplot(x='Exited', y ='Age', data=df, ax=axs[0][1])\n",
        "sns.boxplot(x='Exited', y ='Tenure', data=df, ax=axs[1][0])\n",
        "sns.boxplot(x='Exited', y ='NumOfProducts', data=df, ax=axs[1][1])\n",
        "sns.boxplot(x='Exited', y ='Balance', data=df, ax=axs[2][0])\n",
        "sns.boxplot(x='Exited', y ='EstimatedSalary', data=df, ax=axs[2][1])"
      ],
      "metadata": {
        "id": "wlpgXZbMIp72",
        "colab": {
          "base_uri": "https://localhost:8080/",
          "height": 694
        },
        "outputId": "e4672b07-3eed-4411-fac1-e0f5a14c9a3f"
      },
      "execution_count": 22,
      "outputs": [
        {
          "output_type": "execute_result",
          "data": {
            "text/plain": [
              "<matplotlib.axes._subplots.AxesSubplot at 0x7fad86395090>"
            ]
          },
          "metadata": {},
          "execution_count": 22
        },
        {
          "output_type": "display_data",
          "data": {
            "text/plain": [
              "<Figure size 1080x720 with 6 Axes>"
            ],
            "image/png": "[encoded data removed]"
          },
          "metadata": {
            "needs_background": "light"
          }
        }
      ]
    },
    {
      "cell_type": "markdown",
      "source": [
        "`CreditScore`, `NumOfProducts`, `EstimatedSalary` don't seem to be vary too much given different churn status. However, we can see that there are some outliers for churned customer who purchased 4 number of products from the banks.\n",
        "\n",
        "Moreover, as compared to royal customer, the group of people who chose to exit has a higher average age, approximately 50. "
      ],
      "metadata": {
        "id": "RJDwosAKCFbp"
      }
    },
    {
      "cell_type": "code",
      "source": [
        "# correlations between features\n",
        "correlation = df[['CreditScore', 'Age', 'Tenure', 'NumOfProducts','Balance', 'EstimatedSalary']].corr()\n",
        "\n",
        "# show heapmap of correlations\n",
        "sns.heatmap(correlation)"
      ],
      "metadata": {
        "colab": {
          "base_uri": "https://localhost:8080/",
          "height": 358
        },
        "id": "kIRjMqV4Dlad",
        "outputId": "8fb395c2-61b2-460d-fc7f-739982a94ad8"
      },
      "execution_count": 19,
      "outputs": [
        {
          "output_type": "execute_result",
          "data": {
            "text/plain": [
              "<matplotlib.axes._subplots.AxesSubplot at 0x7fad892ec610>"
            ]
          },
          "metadata": {},
          "execution_count": 19
        },
        {
          "output_type": "display_data",
          "data": {
            "text/plain": [
              "<Figure size 432x288 with 2 Axes>"
            ],
            "image/png": "[encoded data removed]"
          },
          "metadata": {
            "needs_background": "light"
          }
        }
      ]
    },
    {
      "cell_type": "code",
      "source": [
        "correlation"
      ],
      "metadata": {
        "colab": {
          "base_uri": "https://localhost:8080/",
          "height": 237
        },
        "id": "ns9FAwGjE4JD",
        "outputId": "ba78a6ae-5eff-4031-edc7-cd8c330fcf47"
      },
      "execution_count": 26,
      "outputs": [
        {
          "output_type": "execute_result",
          "data": {
            "text/plain": [
              "                 CreditScore       Age    Tenure  NumOfProducts   Balance  \\\n",
              "CreditScore         1.000000 -0.003965  0.000842       0.012238  0.006268   \n",
              "Age                -0.003965  1.000000 -0.009997      -0.030680  0.028308   \n",
              "Tenure              0.000842 -0.009997  1.000000       0.013444 -0.012254   \n",
              "NumOfProducts       0.012238 -0.030680  0.013444       1.000000 -0.304180   \n",
              "Balance             0.006268  0.028308 -0.012254      -0.304180  1.000000   \n",
              "EstimatedSalary    -0.001384 -0.007201  0.007784       0.014204  0.012797   \n",
              "\n",
              "                 EstimatedSalary  \n",
              "CreditScore            -0.001384  \n",
              "Age                    -0.007201  \n",
              "Tenure                  0.007784  \n",
              "NumOfProducts           0.014204  \n",
              "Balance                 0.012797  \n",
              "EstimatedSalary         1.000000  "
            ],
            "text/html": [
              "\n",
              "  <div id=\"df-0590dd10-b36a-4fa3-bf1d-3a839b8670d6\">\n",
              "    <div class=\"colab-df-container\">\n",
              "      <div>\n",
              "<style scoped>\n",
              "    .dataframe tbody tr th:only-of-type {\n",
              "        vertical-align: middle;\n",
              "    }\n",
              "\n",
              "    .dataframe tbody tr th {\n",
              "        vertical-align: top;\n",
              "    }\n",
              "\n",
              "    .dataframe thead th {\n",
              "        text-align: right;\n",
              "    }\n",
              "</style>\n",
              "<table border=\"1\" class=\"dataframe\">\n",
              "  <thead>\n",
              "    <tr style=\"text-align: right;\">\n",
              "      <th></th>\n",
              "      <th>CreditScore</th>\n",
              "      <th>Age</th>\n",
              "      <th>Tenure</th>\n",
              "      <th>NumOfProducts</th>\n",
              "      <th>Balance</th>\n",
              "      <th>EstimatedSalary</th>\n",
              "    </tr>\n",
              "  </thead>\n",
              "  <tbody>\n",
              "    <tr>\n",
              "      <th>CreditScore</th>\n",
              "      <td>1.000000</td>\n",
              "      <td>-0.003965</td>\n",
              "      <td>0.000842</td>\n",
              "      <td>0.012238</td>\n",
              "      <td>0.006268</td>\n",
              "      <td>-0.001384</td>\n",
              "    </tr>\n",
              "    <tr>\n",
              "      <th>Age</th>\n",
              "      <td>-0.003965</td>\n",
              "      <td>1.000000</td>\n",
              "      <td>-0.009997</td>\n",
              "      <td>-0.030680</td>\n",
              "      <td>0.028308</td>\n",
              "      <td>-0.007201</td>\n",
              "    </tr>\n",
              "    <tr>\n",
              "      <th>Tenure</th>\n",
              "      <td>0.000842</td>\n",
              "      <td>-0.009997</td>\n",
              "      <td>1.000000</td>\n",
              "      <td>0.013444</td>\n",
              "      <td>-0.012254</td>\n",
              "      <td>0.007784</td>\n",
              "    </tr>\n",
              "    <tr>\n",
              "      <th>NumOfProducts</th>\n",
              "      <td>0.012238</td>\n",
              "      <td>-0.030680</td>\n",
              "      <td>0.013444</td>\n",
              "      <td>1.000000</td>\n",
              "      <td>-0.304180</td>\n",
              "      <td>0.014204</td>\n",
              "    </tr>\n",
              "    <tr>\n",
              "      <th>Balance</th>\n",
              "      <td>0.006268</td>\n",
              "      <td>0.028308</td>\n",
              "      <td>-0.012254</td>\n",
              "      <td>-0.304180</td>\n",
              "      <td>1.000000</td>\n",
              "      <td>0.012797</td>\n",
              "    </tr>\n",
              "    <tr>\n",
              "      <th>EstimatedSalary</th>\n",
              "      <td>-0.001384</td>\n",
              "      <td>-0.007201</td>\n",
              "      <td>0.007784</td>\n",
              "      <td>0.014204</td>\n",
              "      <td>0.012797</td>\n",
              "      <td>1.000000</td>\n",
              "    </tr>\n",
              "  </tbody>\n",
              "</table>\n",
              "</div>\n",
              "      <button class=\"colab-df-convert\" onclick=\"convertToInteractive('df-0590dd10-b36a-4fa3-bf1d-3a839b8670d6')\"\n",
              "              title=\"Convert this dataframe to an interactive table.\"\n",
              "              style=\"display:none;\">\n",
              "        \n",
              "  <svg xmlns=\"http://www.w3.org/2000/svg\" height=\"24px\"viewBox=\"0 0 24 24\"\n",
              "       width=\"24px\">\n",
              "    <path d=\"M0 0h24v24H0V0z\" fill=\"none\"/>\n",
              "    <path d=\"M18.56 5.44l.94 2.06.94-2.06 2.06-.94-2.06-.94-.94-2.06-.94 2.06-2.06.94zm-11 1L8.5 8.5l.94-2.06 2.06-.94-2.06-.94L8.5 2.5l-.94 2.06-2.06.94zm10 10l.94 2.06.94-2.06 2.06-.94-2.06-.94-.94-2.06-.94 2.06-2.06.94z\"/><path d=\"M17.41 7.96l-1.37-1.37c-.4-.4-.92-.59-1.43-.59-.52 0-1.04.2-1.43.59L10.3 9.45l-7.72 7.72c-.78.78-.78 2.05 0 2.83L4 21.41c.39.39.9.59 1.41.59.51 0 1.02-.2 1.41-.59l7.78-7.78 2.81-2.81c.8-.78.8-2.07 0-2.86zM5.41 20L4 18.59l7.72-7.72 1.47 1.35L5.41 20z\"/>\n",
              "  </svg>\n",
              "      </button>\n",
              "      \n",
              "  <style>\n",
              "    .colab-df-container {\n",
              "      display:flex;\n",
              "      flex-wrap:wrap;\n",
              "      gap: 12px;\n",
              "    }\n",
              "\n",
              "    .colab-df-convert {\n",
              "      background-color: #E8F0FE;\n",
              "      border: none;\n",
              "      border-radius: 50%;\n",
              "      cursor: pointer;\n",
              "      display: none;\n",
              "      fill: #1967D2;\n",
              "      height: 32px;\n",
              "      padding: 0 0 0 0;\n",
              "      width: 32px;\n",
              "    }\n",
              "\n",
              "    .colab-df-convert:hover {\n",
              "      background-color: #E2EBFA;\n",
              "      box-shadow: 0px 1px 2px rgba(60, 64, 67, 0.3), 0px 1px 3px 1px rgba(60, 64, 67, 0.15);\n",
              "      fill: #174EA6;\n",
              "    }\n",
              "\n",
              "    [theme=dark] .colab-df-convert {\n",
              "      background-color: #3B4455;\n",
              "      fill: #D2E3FC;\n",
              "    }\n",
              "\n",
              "    [theme=dark] .colab-df-convert:hover {\n",
              "      background-color: #434B5C;\n",
              "      box-shadow: 0px 1px 3px 1px rgba(0, 0, 0, 0.15);\n",
              "      filter: drop-shadow(0px 1px 2px rgba(0, 0, 0, 0.3));\n",
              "      fill: #FFFFFF;\n",
              "    }\n",
              "  </style>\n",
              "\n",
              "      <script>\n",
              "        const buttonEl =\n",
              "          document.querySelector('#df-0590dd10-b36a-4fa3-bf1d-3a839b8670d6 button.colab-df-convert');\n",
              "        buttonEl.style.display =\n",
              "          google.colab.kernel.accessAllowed ? 'block' : 'none';\n",
              "\n",
              "        async function convertToInteractive(key) {\n",
              "          const element = document.querySelector('#df-0590dd10-b36a-4fa3-bf1d-3a839b8670d6');\n",
              "          const dataTable =\n",
              "            await google.colab.kernel.invokeFunction('convertToInteractive',\n",
              "                                                     [key], {});\n",
              "          if (!dataTable) return;\n",
              "\n",
              "          const docLinkHtml = 'Like what you see? Visit the ' +\n",
              "            '<a target=\"_blank\" href=https://colab.research.google.com/notebooks/data_table.ipynb>data table notebook</a>'\n",
              "            + ' to learn more about interactive tables.';\n",
              "          element.innerHTML = '';\n",
              "          dataTable['output_type'] = 'display_data';\n",
              "          await google.colab.output.renderOutput(dataTable, element);\n",
              "          const docLink = document.createElement('div');\n",
              "          docLink.innerHTML = docLinkHtml;\n",
              "          element.appendChild(docLink);\n",
              "        }\n",
              "      </script>\n",
              "    </div>\n",
              "  </div>\n",
              "  "
            ]
          },
          "metadata": {},
          "execution_count": 26
        }
      ]
    },
    {
      "cell_type": "markdown",
      "source": [
        "It turns out that there are only weak correlation (negligible) shown between our numerical features. `Balance` and `NumOfProducts` have a relatively significant correlation of negative 0.3. "
      ],
      "metadata": {
        "id": "KSoFq9jhDy_u"
      }
    },
    {
      "cell_type": "code",
      "source": [
        "# Check categorical features\n",
        "fig,axs = plt.subplots(2,2, figsize=[15,10])\n",
        "fig.suptitle('Frequency Plot for Categorical Variables')\n",
        "sns.countplot(x='Exited', hue='Geography', data=df, ax=axs[0][0])\n",
        "sns.countplot(x='Exited', hue='Gender', data=df, ax=axs[0][1])\n",
        "sns.countplot(x='Exited', hue='HasCrCard', data=df, ax=axs[1][0])\n",
        "sns.countplot(x='Exited', hue='IsActiveMember', data=df, ax=axs[1][1])"
      ],
      "metadata": {
        "colab": {
          "base_uri": "https://localhost:8080/",
          "height": 694
        },
        "id": "sUd0HqvVIA0X",
        "outputId": "d68a987c-ef9d-4ab7-f87f-faf224799f09"
      },
      "execution_count": 23,
      "outputs": [
        {
          "output_type": "execute_result",
          "data": {
            "text/plain": [
              "<matplotlib.axes._subplots.AxesSubplot at 0x7fad86108b50>"
            ]
          },
          "metadata": {},
          "execution_count": 23
        },
        {
          "output_type": "display_data",
          "data": {
            "text/plain": [
              "<Figure size 1080x720 with 4 Axes>"
            ],
            "image/png": "[encoded data removed]"
          },
          "metadata": {
            "needs_background": "light"
          }
        }
      ]
    },
    {
      "cell_type": "markdown",
      "source": [
        "If we consider the portion of churned customers within coutries, it shows that Germany did a bad job in maintaining customer retention. \n",
        "\n",
        "`IsActiveMember` also seems to have influence on churn status. It looks like active members tend to stay as compared to those who are not active members."
      ],
      "metadata": {
        "id": "qqXqndvzJKC-"
      }
    },
    {
      "cell_type": "markdown",
      "source": [
        "## Part 2: Feature Engineering"
      ],
      "metadata": {
        "id": "CPiIcCBBFtN7"
      }
    },
    {
      "cell_type": "code",
      "source": [
        "X = df.drop(['RowNumber','CustomerId','Surname','Exited'], axis = 1)"
      ],
      "metadata": {
        "id": "LnrswiWAHEkZ"
      },
      "execution_count": 27,
      "outputs": []
    },
    {
      "cell_type": "code",
      "source": [
        "X.dtypes"
      ],
      "metadata": {
        "id": "7rMxbg2JHEiJ",
        "colab": {
          "base_uri": "https://localhost:8080/"
        },
        "outputId": "4433cb6f-d891-47e8-a69f-ce512f7ebc36"
      },
      "execution_count": 28,
      "outputs": [
        {
          "output_type": "execute_result",
          "data": {
            "text/plain": [
              "Unnamed: 0           int64\n",
              "CreditScore          int64\n",
              "Geography           object\n",
              "Gender              object\n",
              "Age                  int64\n",
              "Tenure               int64\n",
              "Balance            float64\n",
              "NumOfProducts        int64\n",
              "HasCrCard            int64\n",
              "IsActiveMember       int64\n",
              "EstimatedSalary    float64\n",
              "dtype: object"
            ]
          },
          "metadata": {},
          "execution_count": 28
        }
      ]
    },
    {
      "cell_type": "markdown",
      "source": [
        "### 2.1 Split the Data"
      ],
      "metadata": {
        "id": "Iux4VSIgHWVG"
      }
    },
    {
      "cell_type": "code",
      "source": [
        "# Splite data into training and testing\n",
        "# train set: test set = 0.75 : 0.25\n",
        "\n",
        "from sklearn import model_selection\n",
        "\n",
        "X_train, X_test, y_train, y_test = model_selection.train_test_split(X, y, test_size = 0.25, stratify = y, random_state = 1) #stratified sampling\n",
        "\n",
        "print('training data has ' + str(X_train.shape[0]) + ' observation with ' + str(X_train.shape[1]) + ' features')\n",
        "print('test data has ' + str(X_test.shape[0]) + ' observation with ' + str(X_test.shape[1]) + ' features')"
      ],
      "metadata": {
        "colab": {
          "base_uri": "https://localhost:8080/"
        },
        "id": "ZcXemvhSHZWx",
        "outputId": "5f023d97-5a03-4aa9-8226-ca4087572b17"
      },
      "execution_count": 63,
      "outputs": [
        {
          "output_type": "stream",
          "name": "stdout",
          "text": [
            "training data has 7500 observation with 11 features\n",
            "test data has 2500 observation with 11 features\n"
          ]
        }
      ]
    },
    {
      "cell_type": "markdown",
      "source": [
        "### 2.2 Transform Features"
      ],
      "metadata": {
        "id": "AF6EoeFTL-hb"
      }
    },
    {
      "cell_type": "code",
      "source": [
        "# Transform categorical features\n",
        "# One hot encoding\n",
        "from sklearn.preprocessing import OneHotEncoder\n",
        "\n",
        "def OneHotEncoding(df, enc, categories):  \n",
        "  transformed = pd.DataFrame(enc.transform(df[categories]).toarray(), \n",
        "                             columns=enc.get_feature_names_out(categories))\n",
        "  return pd.concat([df.reset_index(drop=True), transformed], axis=1).drop(categories, axis=1)\n",
        "\n",
        "# only `Geography` is not binary factor\n",
        "categories = ['Geography']\n",
        "enc_ohe = OneHotEncoder()\n",
        "enc_ohe.fit(X_train[categories])\n",
        "\n",
        "X_train = OneHotEncoding(X_train, enc_ohe, categories)\n",
        "X_test = OneHotEncoding(X_test, enc_ohe, categories)"
      ],
      "metadata": {
        "id": "TLJvqSzGOqDB"
      },
      "execution_count": 64,
      "outputs": []
    },
    {
      "cell_type": "code",
      "source": [
        "# Ordinal encoding for binary factor\n",
        "# only `Gender` needs to be numericalized\n",
        "from sklearn.preprocessing import OrdinalEncoder\n",
        "\n",
        "categories = ['Gender']\n",
        "enc_oe = OrdinalEncoder()\n",
        "enc_oe.fit(X_train[categories])\n",
        "\n",
        "X_train[categories] = enc_oe.transform(X_train[categories])\n",
        "X_test[categories] = enc_oe.transform(X_test[categories])"
      ],
      "metadata": {
        "id": "2l8HdbXoYii-"
      },
      "execution_count": 65,
      "outputs": []
    },
    {
      "cell_type": "code",
      "source": [
        "X_train.head()"
      ],
      "metadata": {
        "colab": {
          "base_uri": "https://localhost:8080/",
          "height": 287
        },
        "id": "MudE3UtMWyiy",
        "outputId": "f39cab44-6b98-41ba-aacc-4403875fff6c"
      },
      "execution_count": 66,
      "outputs": [
        {
          "output_type": "execute_result",
          "data": {
            "text/plain": [
              "   Unnamed: 0  CreditScore  Gender  Age  Tenure   Balance  NumOfProducts  \\\n",
              "0        7971          633     1.0   42      10      0.00              1   \n",
              "1        9152          708     0.0   23       4  71433.08              1   \n",
              "2        6732          548     0.0   37       9      0.00              2   \n",
              "3         902          645     0.0   48       7  90612.34              1   \n",
              "4        2996          729     0.0   45       7  91091.06              2   \n",
              "\n",
              "   HasCrCard  IsActiveMember  EstimatedSalary  Geography_France  \\\n",
              "0          0               1         79408.17               0.0   \n",
              "1          1               0        103697.57               0.0   \n",
              "2          0               0         98029.58               1.0   \n",
              "3          1               1        149139.13               1.0   \n",
              "4          1               0         71133.12               0.0   \n",
              "\n",
              "   Geography_Germany  Geography_Spain  \n",
              "0                0.0              1.0  \n",
              "1                1.0              0.0  \n",
              "2                0.0              0.0  \n",
              "3                0.0              0.0  \n",
              "4                0.0              1.0  "
            ],
            "text/html": [
              "\n",
              "  <div id=\"df-a42b85c8-a14f-405f-8e64-5cdcf95d0707\">\n",
              "    <div class=\"colab-df-container\">\n",
              "      <div>\n",
              "<style scoped>\n",
              "    .dataframe tbody tr th:only-of-type {\n",
              "        vertical-align: middle;\n",
              "    }\n",
              "\n",
              "    .dataframe tbody tr th {\n",
              "        vertical-align: top;\n",
              "    }\n",
              "\n",
              "    .dataframe thead th {\n",
              "        text-align: right;\n",
              "    }\n",
              "</style>\n",
              "<table border=\"1\" class=\"dataframe\">\n",
              "  <thead>\n",
              "    <tr style=\"text-align: right;\">\n",
              "      <th></th>\n",
              "      <th>Unnamed: 0</th>\n",
              "      <th>CreditScore</th>\n",
              "      <th>Gender</th>\n",
              "      <th>Age</th>\n",
              "      <th>Tenure</th>\n",
              "      <th>Balance</th>\n",
              "      <th>NumOfProducts</th>\n",
              "      <th>HasCrCard</th>\n",
              "      <th>IsActiveMember</th>\n",
              "      <th>EstimatedSalary</th>\n",
              "      <th>Geography_France</th>\n",
              "      <th>Geography_Germany</th>\n",
              "      <th>Geography_Spain</th>\n",
              "    </tr>\n",
              "  </thead>\n",
              "  <tbody>\n",
              "    <tr>\n",
              "      <th>0</th>\n",
              "      <td>7971</td>\n",
              "      <td>633</td>\n",
              "      <td>1.0</td>\n",
              "      <td>42</td>\n",
              "      <td>10</td>\n",
              "      <td>0.00</td>\n",
              "      <td>1</td>\n",
              "      <td>0</td>\n",
              "      <td>1</td>\n",
              "      <td>79408.17</td>\n",
              "      <td>0.0</td>\n",
              "      <td>0.0</td>\n",
              "      <td>1.0</td>\n",
              "    </tr>\n",
              "    <tr>\n",
              "      <th>1</th>\n",
              "      <td>9152</td>\n",
              "      <td>708</td>\n",
              "      <td>0.0</td>\n",
              "      <td>23</td>\n",
              "      <td>4</td>\n",
              "      <td>71433.08</td>\n",
              "      <td>1</td>\n",
              "      <td>1</td>\n",
              "      <td>0</td>\n",
              "      <td>103697.57</td>\n",
              "      <td>0.0</td>\n",
              "      <td>1.0</td>\n",
              "      <td>0.0</td>\n",
              "    </tr>\n",
              "    <tr>\n",
              "      <th>2</th>\n",
              "      <td>6732</td>\n",
              "      <td>548</td>\n",
              "      <td>0.0</td>\n",
              "      <td>37</td>\n",
              "      <td>9</td>\n",
              "      <td>0.00</td>\n",
              "      <td>2</td>\n",
              "      <td>0</td>\n",
              "      <td>0</td>\n",
              "      <td>98029.58</td>\n",
              "      <td>1.0</td>\n",
              "      <td>0.0</td>\n",
              "      <td>0.0</td>\n",
              "    </tr>\n",
              "    <tr>\n",
              "      <th>3</th>\n",
              "      <td>902</td>\n",
              "      <td>645</td>\n",
              "      <td>0.0</td>\n",
              "      <td>48</td>\n",
              "      <td>7</td>\n",
              "      <td>90612.34</td>\n",
              "      <td>1</td>\n",
              "      <td>1</td>\n",
              "      <td>1</td>\n",
              "      <td>149139.13</td>\n",
              "      <td>1.0</td>\n",
              "      <td>0.0</td>\n",
              "      <td>0.0</td>\n",
              "    </tr>\n",
              "    <tr>\n",
              "      <th>4</th>\n",
              "      <td>2996</td>\n",
              "      <td>729</td>\n",
              "      <td>0.0</td>\n",
              "      <td>45</td>\n",
              "      <td>7</td>\n",
              "      <td>91091.06</td>\n",
              "      <td>2</td>\n",
              "      <td>1</td>\n",
              "      <td>0</td>\n",
              "      <td>71133.12</td>\n",
              "      <td>0.0</td>\n",
              "      <td>0.0</td>\n",
              "      <td>1.0</td>\n",
              "    </tr>\n",
              "  </tbody>\n",
              "</table>\n",
              "</div>\n",
              "      <button class=\"colab-df-convert\" onclick=\"convertToInteractive('df-a42b85c8-a14f-405f-8e64-5cdcf95d0707')\"\n",
              "              title=\"Convert this dataframe to an interactive table.\"\n",
              "              style=\"display:none;\">\n",
              "        \n",
              "  <svg xmlns=\"http://www.w3.org/2000/svg\" height=\"24px\"viewBox=\"0 0 24 24\"\n",
              "       width=\"24px\">\n",
              "    <path d=\"M0 0h24v24H0V0z\" fill=\"none\"/>\n",
              "    <path d=\"M18.56 5.44l.94 2.06.94-2.06 2.06-.94-2.06-.94-.94-2.06-.94 2.06-2.06.94zm-11 1L8.5 8.5l.94-2.06 2.06-.94-2.06-.94L8.5 2.5l-.94 2.06-2.06.94zm10 10l.94 2.06.94-2.06 2.06-.94-2.06-.94-.94-2.06-.94 2.06-2.06.94z\"/><path d=\"M17.41 7.96l-1.37-1.37c-.4-.4-.92-.59-1.43-.59-.52 0-1.04.2-1.43.59L10.3 9.45l-7.72 7.72c-.78.78-.78 2.05 0 2.83L4 21.41c.39.39.9.59 1.41.59.51 0 1.02-.2 1.41-.59l7.78-7.78 2.81-2.81c.8-.78.8-2.07 0-2.86zM5.41 20L4 18.59l7.72-7.72 1.47 1.35L5.41 20z\"/>\n",
              "  </svg>\n",
              "      </button>\n",
              "      \n",
              "  <style>\n",
              "    .colab-df-container {\n",
              "      display:flex;\n",
              "      flex-wrap:wrap;\n",
              "      gap: 12px;\n",
              "    }\n",
              "\n",
              "    .colab-df-convert {\n",
              "      background-color: #E8F0FE;\n",
              "      border: none;\n",
              "      border-radius: 50%;\n",
              "      cursor: pointer;\n",
              "      display: none;\n",
              "      fill: #1967D2;\n",
              "      height: 32px;\n",
              "      padding: 0 0 0 0;\n",
              "      width: 32px;\n",
              "    }\n",
              "\n",
              "    .colab-df-convert:hover {\n",
              "      background-color: #E2EBFA;\n",
              "      box-shadow: 0px 1px 2px rgba(60, 64, 67, 0.3), 0px 1px 3px 1px rgba(60, 64, 67, 0.15);\n",
              "      fill: #174EA6;\n",
              "    }\n",
              "\n",
              "    [theme=dark] .colab-df-convert {\n",
              "      background-color: #3B4455;\n",
              "      fill: #D2E3FC;\n",
              "    }\n",
              "\n",
              "    [theme=dark] .colab-df-convert:hover {\n",
              "      background-color: #434B5C;\n",
              "      box-shadow: 0px 1px 3px 1px rgba(0, 0, 0, 0.15);\n",
              "      filter: drop-shadow(0px 1px 2px rgba(0, 0, 0, 0.3));\n",
              "      fill: #FFFFFF;\n",
              "    }\n",
              "  </style>\n",
              "\n",
              "      <script>\n",
              "        const buttonEl =\n",
              "          document.querySelector('#df-a42b85c8-a14f-405f-8e64-5cdcf95d0707 button.colab-df-convert');\n",
              "        buttonEl.style.display =\n",
              "          google.colab.kernel.accessAllowed ? 'block' : 'none';\n",
              "\n",
              "        async function convertToInteractive(key) {\n",
              "          const element = document.querySelector('#df-a42b85c8-a14f-405f-8e64-5cdcf95d0707');\n",
              "          const dataTable =\n",
              "            await google.colab.kernel.invokeFunction('convertToInteractive',\n",
              "                                                     [key], {});\n",
              "          if (!dataTable) return;\n",
              "\n",
              "          const docLinkHtml = 'Like what you see? Visit the ' +\n",
              "            '<a target=\"_blank\" href=https://colab.research.google.com/notebooks/data_table.ipynb>data table notebook</a>'\n",
              "            + ' to learn more about interactive tables.';\n",
              "          element.innerHTML = '';\n",
              "          dataTable['output_type'] = 'display_data';\n",
              "          await google.colab.output.renderOutput(dataTable, element);\n",
              "          const docLink = document.createElement('div');\n",
              "          docLink.innerHTML = docLinkHtml;\n",
              "          element.appendChild(docLink);\n",
              "        }\n",
              "      </script>\n",
              "    </div>\n",
              "  </div>\n",
              "  "
            ]
          },
          "metadata": {},
          "execution_count": 66
        }
      ]
    },
    {
      "cell_type": "code",
      "source": [
        "# Transform numerical features (standardization)\n",
        "\n",
        "from sklearn.preprocessing import StandardScaler\n",
        "scaler = StandardScaler()\n",
        "\n",
        "numerical = X.columns[(X.dtypes == 'float64') | (X.dtypes == 'int64')]\n",
        "\n",
        "scaler.fit(X_train[numerical])\n",
        "X_train[numerical] = scaler.transform(X_train[numerical])\n",
        "X_test[numerical] = scaler.transform(X_test[numerical])"
      ],
      "metadata": {
        "id": "HA4kP_1sW9fv"
      },
      "execution_count": 68,
      "outputs": []
    },
    {
      "cell_type": "code",
      "source": [
        "X_train.head()"
      ],
      "metadata": {
        "colab": {
          "base_uri": "https://localhost:8080/",
          "height": 287
        },
        "id": "NlvKYUs8XBTd",
        "outputId": "176de20c-8098-4220-f25d-9eaef5dcd158"
      },
      "execution_count": 69,
      "outputs": [
        {
          "output_type": "execute_result",
          "data": {
            "text/plain": [
              "   Unnamed: 0  CreditScore  Gender       Age    Tenure   Balance  \\\n",
              "0    1.037120    -0.172985     1.0  0.289202  1.731199 -1.218916   \n",
              "1    1.448111     0.602407     0.0 -1.509319 -0.341156 -0.076977   \n",
              "2    0.605944    -1.051762     0.0 -0.184093  1.385806 -1.218916   \n",
              "3   -1.422913    -0.048922     0.0  0.857156  0.695022  0.229625   \n",
              "4   -0.694195     0.819517     0.0  0.573179  0.695022  0.237278   \n",
              "\n",
              "   NumOfProducts  HasCrCard  IsActiveMember  EstimatedSalary  \\\n",
              "0      -0.912769  -1.542199        0.968496        -0.352044   \n",
              "1      -0.912769   0.648425       -1.032529         0.072315   \n",
              "2       0.796109  -1.542199       -1.032529        -0.026711   \n",
              "3      -0.912769   0.648425        0.968496         0.866221   \n",
              "4       0.796109   0.648425       -1.032529        -0.496617   \n",
              "\n",
              "   Geography_France  Geography_Germany  Geography_Spain  \n",
              "0               0.0                0.0              1.0  \n",
              "1               0.0                1.0              0.0  \n",
              "2               1.0                0.0              0.0  \n",
              "3               1.0                0.0              0.0  \n",
              "4               0.0                0.0              1.0  "
            ],
            "text/html": [
              "\n",
              "  <div id=\"df-5ad6bd87-e7bf-407a-8a8d-887ec7dee23c\">\n",
              "    <div class=\"colab-df-container\">\n",
              "      <div>\n",
              "<style scoped>\n",
              "    .dataframe tbody tr th:only-of-type {\n",
              "        vertical-align: middle;\n",
              "    }\n",
              "\n",
              "    .dataframe tbody tr th {\n",
              "        vertical-align: top;\n",
              "    }\n",
              "\n",
              "    .dataframe thead th {\n",
              "        text-align: right;\n",
              "    }\n",
              "</style>\n",
              "<table border=\"1\" class=\"dataframe\">\n",
              "  <thead>\n",
              "    <tr style=\"text-align: right;\">\n",
              "      <th></th>\n",
              "      <th>Unnamed: 0</th>\n",
              "      <th>CreditScore</th>\n",
              "      <th>Gender</th>\n",
              "      <th>Age</th>\n",
              "      <th>Tenure</th>\n",
              "      <th>Balance</th>\n",
              "      <th>NumOfProducts</th>\n",
              "      <th>HasCrCard</th>\n",
              "      <th>IsActiveMember</th>\n",
              "      <th>EstimatedSalary</th>\n",
              "      <th>Geography_France</th>\n",
              "      <th>Geography_Germany</th>\n",
              "      <th>Geography_Spain</th>\n",
              "    </tr>\n",
              "  </thead>\n",
              "  <tbody>\n",
              "    <tr>\n",
              "      <th>0</th>\n",
              "      <td>1.037120</td>\n",
              "      <td>-0.172985</td>\n",
              "      <td>1.0</td>\n",
              "      <td>0.289202</td>\n",
              "      <td>1.731199</td>\n",
              "      <td>-1.218916</td>\n",
              "      <td>-0.912769</td>\n",
              "      <td>-1.542199</td>\n",
              "      <td>0.968496</td>\n",
              "      <td>-0.352044</td>\n",
              "      <td>0.0</td>\n",
              "      <td>0.0</td>\n",
              "      <td>1.0</td>\n",
              "    </tr>\n",
              "    <tr>\n",
              "      <th>1</th>\n",
              "      <td>1.448111</td>\n",
              "      <td>0.602407</td>\n",
              "      <td>0.0</td>\n",
              "      <td>-1.509319</td>\n",
              "      <td>-0.341156</td>\n",
              "      <td>-0.076977</td>\n",
              "      <td>-0.912769</td>\n",
              "      <td>0.648425</td>\n",
              "      <td>-1.032529</td>\n",
              "      <td>0.072315</td>\n",
              "      <td>0.0</td>\n",
              "      <td>1.0</td>\n",
              "      <td>0.0</td>\n",
              "    </tr>\n",
              "    <tr>\n",
              "      <th>2</th>\n",
              "      <td>0.605944</td>\n",
              "      <td>-1.051762</td>\n",
              "      <td>0.0</td>\n",
              "      <td>-0.184093</td>\n",
              "      <td>1.385806</td>\n",
              "      <td>-1.218916</td>\n",
              "      <td>0.796109</td>\n",
              "      <td>-1.542199</td>\n",
              "      <td>-1.032529</td>\n",
              "      <td>-0.026711</td>\n",
              "      <td>1.0</td>\n",
              "      <td>0.0</td>\n",
              "      <td>0.0</td>\n",
              "    </tr>\n",
              "    <tr>\n",
              "      <th>3</th>\n",
              "      <td>-1.422913</td>\n",
              "      <td>-0.048922</td>\n",
              "      <td>0.0</td>\n",
              "      <td>0.857156</td>\n",
              "      <td>0.695022</td>\n",
              "      <td>0.229625</td>\n",
              "      <td>-0.912769</td>\n",
              "      <td>0.648425</td>\n",
              "      <td>0.968496</td>\n",
              "      <td>0.866221</td>\n",
              "      <td>1.0</td>\n",
              "      <td>0.0</td>\n",
              "      <td>0.0</td>\n",
              "    </tr>\n",
              "    <tr>\n",
              "      <th>4</th>\n",
              "      <td>-0.694195</td>\n",
              "      <td>0.819517</td>\n",
              "      <td>0.0</td>\n",
              "      <td>0.573179</td>\n",
              "      <td>0.695022</td>\n",
              "      <td>0.237278</td>\n",
              "      <td>0.796109</td>\n",
              "      <td>0.648425</td>\n",
              "      <td>-1.032529</td>\n",
              "      <td>-0.496617</td>\n",
              "      <td>0.0</td>\n",
              "      <td>0.0</td>\n",
              "      <td>1.0</td>\n",
              "    </tr>\n",
              "  </tbody>\n",
              "</table>\n",
              "</div>\n",
              "      <button class=\"colab-df-convert\" onclick=\"convertToInteractive('df-5ad6bd87-e7bf-407a-8a8d-887ec7dee23c')\"\n",
              "              title=\"Convert this dataframe to an interactive table.\"\n",
              "              style=\"display:none;\">\n",
              "        \n",
              "  <svg xmlns=\"http://www.w3.org/2000/svg\" height=\"24px\"viewBox=\"0 0 24 24\"\n",
              "       width=\"24px\">\n",
              "    <path d=\"M0 0h24v24H0V0z\" fill=\"none\"/>\n",
              "    <path d=\"M18.56 5.44l.94 2.06.94-2.06 2.06-.94-2.06-.94-.94-2.06-.94 2.06-2.06.94zm-11 1L8.5 8.5l.94-2.06 2.06-.94-2.06-.94L8.5 2.5l-.94 2.06-2.06.94zm10 10l.94 2.06.94-2.06 2.06-.94-2.06-.94-.94-2.06-.94 2.06-2.06.94z\"/><path d=\"M17.41 7.96l-1.37-1.37c-.4-.4-.92-.59-1.43-.59-.52 0-1.04.2-1.43.59L10.3 9.45l-7.72 7.72c-.78.78-.78 2.05 0 2.83L4 21.41c.39.39.9.59 1.41.59.51 0 1.02-.2 1.41-.59l7.78-7.78 2.81-2.81c.8-.78.8-2.07 0-2.86zM5.41 20L4 18.59l7.72-7.72 1.47 1.35L5.41 20z\"/>\n",
              "  </svg>\n",
              "      </button>\n",
              "      \n",
              "  <style>\n",
              "    .colab-df-container {\n",
              "      display:flex;\n",
              "      flex-wrap:wrap;\n",
              "      gap: 12px;\n",
              "    }\n",
              "\n",
              "    .colab-df-convert {\n",
              "      background-color: #E8F0FE;\n",
              "      border: none;\n",
              "      border-radius: 50%;\n",
              "      cursor: pointer;\n",
              "      display: none;\n",
              "      fill: #1967D2;\n",
              "      height: 32px;\n",
              "      padding: 0 0 0 0;\n",
              "      width: 32px;\n",
              "    }\n",
              "\n",
              "    .colab-df-convert:hover {\n",
              "      background-color: #E2EBFA;\n",
              "      box-shadow: 0px 1px 2px rgba(60, 64, 67, 0.3), 0px 1px 3px 1px rgba(60, 64, 67, 0.15);\n",
              "      fill: #174EA6;\n",
              "    }\n",
              "\n",
              "    [theme=dark] .colab-df-convert {\n",
              "      background-color: #3B4455;\n",
              "      fill: #D2E3FC;\n",
              "    }\n",
              "\n",
              "    [theme=dark] .colab-df-convert:hover {\n",
              "      background-color: #434B5C;\n",
              "      box-shadow: 0px 1px 3px 1px rgba(0, 0, 0, 0.15);\n",
              "      filter: drop-shadow(0px 1px 2px rgba(0, 0, 0, 0.3));\n",
              "      fill: #FFFFFF;\n",
              "    }\n",
              "  </style>\n",
              "\n",
              "      <script>\n",
              "        const buttonEl =\n",
              "          document.querySelector('#df-5ad6bd87-e7bf-407a-8a8d-887ec7dee23c button.colab-df-convert');\n",
              "        buttonEl.style.display =\n",
              "          google.colab.kernel.accessAllowed ? 'block' : 'none';\n",
              "\n",
              "        async function convertToInteractive(key) {\n",
              "          const element = document.querySelector('#df-5ad6bd87-e7bf-407a-8a8d-887ec7dee23c');\n",
              "          const dataTable =\n",
              "            await google.colab.kernel.invokeFunction('convertToInteractive',\n",
              "                                                     [key], {});\n",
              "          if (!dataTable) return;\n",
              "\n",
              "          const docLinkHtml = 'Like what you see? Visit the ' +\n",
              "            '<a target=\"_blank\" href=https://colab.research.google.com/notebooks/data_table.ipynb>data table notebook</a>'\n",
              "            + ' to learn more about interactive tables.';\n",
              "          element.innerHTML = '';\n",
              "          dataTable['output_type'] = 'display_data';\n",
              "          await google.colab.output.renderOutput(dataTable, element);\n",
              "          const docLink = document.createElement('div');\n",
              "          docLink.innerHTML = docLinkHtml;\n",
              "          element.appendChild(docLink);\n",
              "        }\n",
              "      </script>\n",
              "    </div>\n",
              "  </div>\n",
              "  "
            ]
          },
          "metadata": {},
          "execution_count": 69
        }
      ]
    },
    {
      "cell_type": "markdown",
      "source": [
        "### 2.3 Oversampling (SMOTE)"
      ],
      "metadata": {
        "id": "EtlBeV6AIDT8"
      }
    },
    {
      "cell_type": "code",
      "source": [
        "from imblearn.over_sampling import SMOTE\n",
        "sm = SMOTE(random_state = 42, k_neighbors = 5)"
      ],
      "metadata": {
        "id": "j2QQkVJtIC7Y"
      },
      "execution_count": 70,
      "outputs": []
    },
    {
      "cell_type": "code",
      "source": [
        "X_train_new, y_train_new = sm.fit_resample(X_train, y_train)"
      ],
      "metadata": {
        "id": "uqVe2SETIC5A"
      },
      "execution_count": 71,
      "outputs": []
    },
    {
      "cell_type": "code",
      "source": [
        "pd.Series(y_train_new).value_counts().plot.bar()"
      ],
      "metadata": {
        "colab": {
          "base_uri": "https://localhost:8080/",
          "height": 279
        },
        "id": "HVXfSfJnOqFF",
        "outputId": "06460666-cf8a-4b3d-c8ad-462f01423d65"
      },
      "execution_count": 84,
      "outputs": [
        {
          "output_type": "execute_result",
          "data": {
            "text/plain": [
              "<matplotlib.axes._subplots.AxesSubplot at 0x7fad83ffde10>"
            ]
          },
          "metadata": {},
          "execution_count": 84
        },
        {
          "output_type": "display_data",
          "data": {
            "text/plain": [
              "<Figure size 432x288 with 1 Axes>"
            ],
            "image/png": "[encoded data removed]"
          },
          "metadata": {
            "needs_background": "light"
          }
        }
      ]
    },
    {
      "cell_type": "markdown",
      "source": [
        "Now, we have a balanced training dataset."
      ],
      "metadata": {
        "id": "8UFAYNq8fGua"
      }
    },
    {
      "cell_type": "markdown",
      "source": [
        "## Part 3: Modeling"
      ],
      "metadata": {
        "id": "qwHJlrLkFtJC"
      }
    },
    {
      "cell_type": "markdown",
      "source": [
        "### 3.1 Training Model"
      ],
      "metadata": {
        "id": "FwbGFG93ejtG"
      }
    },
    {
      "cell_type": "code",
      "source": [
        "# model training\n",
        "from sklearn.ensemble import RandomForestClassifier\n",
        "from sklearn.neighbors import KNeighborsClassifier \n",
        "from sklearn.linear_model import LogisticRegression"
      ],
      "metadata": {
        "id": "uzhyBZcBHFS4"
      },
      "execution_count": 85,
      "outputs": []
    },
    {
      "cell_type": "code",
      "source": [
        "# Logistic Regression\n",
        "logistic = LogisticRegression()\n",
        "logistic.fit(X_train, y_train)\n",
        "\n",
        "# K Nearest Neighbors\n",
        "KNN = KNeighborsClassifier()\n",
        "KNN.fit(X_train, y_train)\n",
        "\n",
        "# Random Forest\n",
        "RF = RandomForestClassifier()\n",
        "RF.fit(X_train, y_train)"
      ],
      "metadata": {
        "id": "1wCs2Gy2HFQv",
        "colab": {
          "base_uri": "https://localhost:8080/"
        },
        "outputId": "e3448cd9-9429-4e5e-f253-3d6db1ed7074"
      },
      "execution_count": 88,
      "outputs": [
        {
          "output_type": "execute_result",
          "data": {
            "text/plain": [
              "RandomForestClassifier()"
            ]
          },
          "metadata": {},
          "execution_count": 88
        }
      ]
    },
    {
      "cell_type": "code",
      "source": [
        "# Use 5-fold Cross Validation to get the accuracy for our models\n",
        "names_list = ['Logistic Regression','KNN','Random Forest']\n",
        "model_list = [logistic, KNN, RF]\n",
        "count = 0\n",
        "\n",
        "for classifier in model_list:\n",
        "    cv_score = model_selection.cross_val_score(classifier, X_train, y_train, cv=5)\n",
        "    print(names_list[count] + ' has mean accuracy of  ' + str(cv_score.mean()))\n",
        "    count += 1"
      ],
      "metadata": {
        "id": "yNU_5U4MHFOZ",
        "colab": {
          "base_uri": "https://localhost:8080/"
        },
        "outputId": "262dd6e0-69d2-4b4a-e50e-fc8170cbb1b6"
      },
      "execution_count": 93,
      "outputs": [
        {
          "output_type": "stream",
          "name": "stdout",
          "text": [
            "Logistic Regression has mean accuracy of  0.8122666666666666\n",
            "KNN has mean accuracy of  0.8328\n",
            "Random Forest has mean accuracy of  0.8629333333333333\n"
          ]
        }
      ]
    },
    {
      "cell_type": "markdown",
      "source": [
        "### 3.2 Tunning Hyperparameter"
      ],
      "metadata": {
        "id": "h3Q3AOKNevl1"
      }
    },
    {
      "cell_type": "code",
      "source": [
        "from sklearn.model_selection import GridSearchCV"
      ],
      "metadata": {
        "id": "sYD0xriIHFMP"
      },
      "execution_count": 94,
      "outputs": []
    },
    {
      "cell_type": "code",
      "source": [
        "def print_gcv_res(gcv_model):\n",
        "  print(\"Best estimator: \", gcv_model.best_estimator_)\n",
        "  print(\"Best parameter set: \", gcv_model.best_params_)\n",
        "  print(\"Best score: \", gcv_model.best_score_)"
      ],
      "metadata": {
        "id": "2fRLttmPiSAu"
      },
      "execution_count": 104,
      "outputs": []
    },
    {
      "cell_type": "code",
      "source": [
        "# Logistic Regression\n",
        "parameters = {\n",
        "    'penalty':('l1', 'l2'), \n",
        "    'C':(0.01, 0.1, 0.35,  0.5, 1)\n",
        "}\n",
        "\n",
        "LR_gcv = GridSearchCV(LogisticRegression(solver='liblinear'), parameters, cv=5)\n",
        "LR_gcv.fit(X_train, y_train)"
      ],
      "metadata": {
        "id": "Oy1vk3ncHFJ_",
        "colab": {
          "base_uri": "https://localhost:8080/"
        },
        "outputId": "7992c31f-5aaa-49b8-89eb-c4a97009e48c"
      },
      "execution_count": 95,
      "outputs": [
        {
          "output_type": "execute_result",
          "data": {
            "text/plain": [
              "GridSearchCV(cv=5, estimator=LogisticRegression(solver='liblinear'),\n",
              "             param_grid={'C': (0.01, 0.1, 0.35, 0.5, 1),\n",
              "                         'penalty': ('l1', 'l2')})"
            ]
          },
          "metadata": {},
          "execution_count": 95
        }
      ]
    },
    {
      "cell_type": "code",
      "source": [
        "# KNN\n",
        "parameters = {\n",
        "    'n_neighbors':[1,3,5,7,9]\n",
        "}\n",
        "\n",
        "KNN_gcv = GridSearchCV(KNeighborsClassifier(), parameters, cv=5)\n",
        "KNN_gcv.fit(X_train, y_train)"
      ],
      "metadata": {
        "colab": {
          "base_uri": "https://localhost:8080/"
        },
        "id": "JJBZhcLZhP15",
        "outputId": "6dfc3dc2-3552-4624-c1a1-b36c255944ec"
      },
      "execution_count": 109,
      "outputs": [
        {
          "output_type": "execute_result",
          "data": {
            "text/plain": [
              "GridSearchCV(cv=5, estimator=KNeighborsClassifier(),\n",
              "             param_grid={'n_neighbors': [1, 3, 5, 7, 9]})"
            ]
          },
          "metadata": {},
          "execution_count": 109
        }
      ]
    },
    {
      "cell_type": "code",
      "source": [
        "# Random Forest\n",
        "parameters = {\n",
        "    'n_estimators' : [50,75,100, 125],\n",
        "    'max_depth': [1,3,5,7]\n",
        "}\n",
        "\n",
        "RF_gcv = GridSearchCV(RandomForestClassifier(), parameters, cv=5)\n",
        "RF_gcv.fit(X_train, y_train)"
      ],
      "metadata": {
        "colab": {
          "base_uri": "https://localhost:8080/"
        },
        "id": "w9mmBC65hPzm",
        "outputId": "dffd5d4c-2948-4443-acdc-1bfb63d95bd9"
      },
      "execution_count": 110,
      "outputs": [
        {
          "output_type": "execute_result",
          "data": {
            "text/plain": [
              "GridSearchCV(cv=5, estimator=RandomForestClassifier(),\n",
              "             param_grid={'max_depth': [1, 3, 5, 7],\n",
              "                         'n_estimators': [50, 75, 100, 125]})"
            ]
          },
          "metadata": {},
          "execution_count": 110
        }
      ]
    },
    {
      "cell_type": "code",
      "source": [
        "model_list = [LR_gcv, KNN_gcv, RF_gcv]\n",
        "count = 0\n",
        "\n",
        "for classifier in model_list:\n",
        "  print(names_list[count], \": \\n\")\n",
        "  print_gcv_res(classifier)\n",
        "  print(\"\\n\")\n",
        "  count += 1"
      ],
      "metadata": {
        "colab": {
          "base_uri": "https://localhost:8080/"
        },
        "id": "9pfrKafnhPwU",
        "outputId": "a8c2b438-a467-4028-baea-32acfc3b9d6d"
      },
      "execution_count": 113,
      "outputs": [
        {
          "output_type": "stream",
          "name": "stdout",
          "text": [
            "Logistic Regression : \n",
            "\n",
            "Best estimator:  LogisticRegression(C=0.1, solver='liblinear')\n",
            "Best parameter set:  {'C': 0.1, 'penalty': 'l2'}\n",
            "Best score:  0.8129333333333333\n",
            "\n",
            "\n",
            "KNN : \n",
            "\n",
            "Best estimator:  KNeighborsClassifier(n_neighbors=9)\n",
            "Best parameter set:  {'n_neighbors': 9}\n",
            "Best score:  0.8394666666666666\n",
            "\n",
            "\n",
            "Random Forest : \n",
            "\n",
            "Best estimator:  RandomForestClassifier(max_depth=7)\n",
            "Best parameter set:  {'max_depth': 7, 'n_estimators': 100}\n",
            "Best score:  0.8603999999999999\n",
            "\n",
            "\n"
          ]
        }
      ]
    },
    {
      "cell_type": "markdown",
      "source": [
        "### Evaluation"
      ],
      "metadata": {
        "id": "1aVwBwfhkQQu"
      }
    },
    {
      "cell_type": "code",
      "source": [
        "from sklearn.metrics import confusion_matrix\n",
        "from sklearn.metrics import classification_report\n",
        "from sklearn.metrics import precision_score\n",
        "from sklearn.metrics import recall_score"
      ],
      "metadata": {
        "id": "PfQIt2dXkTL6"
      },
      "execution_count": 114,
      "outputs": []
    },
    {
      "cell_type": "code",
      "source": [
        "def cal_metrics(cm):\n",
        "  tn = cm[0][0]\n",
        "  fp = cm[0][1]\n",
        "  fn = cm[1][0]\n",
        "  tp = cm[1][1]\n",
        "  accuracy  = (tp + tn) / (tp + fp + fn + tn + 0.0)\n",
        "  precision = tp / (tp + fp + 0.0)\n",
        "  recall = tp / (tp + fn + 0.0)\n",
        "  f1_score = 2*precision*recall/ (precision + recall)\n",
        "  return accuracy, precision, recall, f1_score"
      ],
      "metadata": {
        "id": "d29nTaUkkTkB"
      },
      "execution_count": 115,
      "outputs": []
    },
    {
      "cell_type": "code",
      "source": [
        "cal_metrics(confusion_matrix(y_test, LR_gcv.best_estimator_.predict(X_test)))"
      ],
      "metadata": {
        "colab": {
          "base_uri": "https://localhost:8080/"
        },
        "id": "yDnxItOikTgL",
        "outputId": "ba809334-83bc-4934-92a2-34d925c4f8a6"
      },
      "execution_count": 119,
      "outputs": [
        {
          "output_type": "execute_result",
          "data": {
            "text/plain": [
              "(0.8076, 0.5833333333333334, 0.1925343811394892, 0.28951255539143284)"
            ]
          },
          "metadata": {},
          "execution_count": 119
        }
      ]
    },
    {
      "cell_type": "code",
      "source": [
        "model_list = [LR_gcv.best_estimator_, KNN_gcv.best_estimator_, RF_gcv.best_estimator_]\n",
        "count = 0\n",
        "\n",
        "for classifier in model_list:\n",
        "  print(names_list[count], \": \\n\")\n",
        "  a, p, r, f1 = cal_metrics(confusion_matrix(y_test, classifier.predict(X_test)))\n",
        "  print(\"accuracy: \", a)\n",
        "  print(\"precision: \", p)\n",
        "  print(\"recall: \", r)\n",
        "  print(\"f1-score: \", f1)\n",
        "  print(\"\\n\")\n",
        "  count += 1"
      ],
      "metadata": {
        "colab": {
          "base_uri": "https://localhost:8080/"
        },
        "id": "ys3ZvsF9md2V",
        "outputId": "4ca796a7-5afc-43b6-aa52-74bbbf3b7248"
      },
      "execution_count": 122,
      "outputs": [
        {
          "output_type": "stream",
          "name": "stdout",
          "text": [
            "Logistic Regression : \n",
            "\n",
            "accuracy:  0.8076\n",
            "precision:  0.5833333333333334\n",
            "recall:  0.1925343811394892\n",
            "f1-score:  0.28951255539143284\n",
            "\n",
            "\n",
            "KNN : \n",
            "\n",
            "accuracy:  0.8344\n",
            "precision:  0.698744769874477\n",
            "recall:  0.3280943025540275\n",
            "f1-score:  0.44652406417112306\n",
            "\n",
            "\n",
            "Random Forest : \n",
            "\n",
            "accuracy:  0.8552\n",
            "precision:  0.8356164383561644\n",
            "recall:  0.35952848722986247\n",
            "f1-score:  0.5027472527472527\n",
            "\n",
            "\n"
          ]
        }
      ]
    },
    {
      "cell_type": "code",
      "source": [
        "# see the mean f1-score for each models (using 5-fold cv)\n",
        "count = 0\n",
        "for classifier in model_list:\n",
        "  print(names_list[count], \": \\n\")\n",
        "  f1 = model_selection.cross_val_score(model_list[count], X_train, y_train, cv=5, scoring = \"f1\")\n",
        "  print(np.mean(f1))\n",
        "  print(\"\\n\")\n",
        "  count += 1\n"
      ],
      "metadata": {
        "colab": {
          "base_uri": "https://localhost:8080/"
        },
        "id": "XMbjlZ_ZpsuN",
        "outputId": "4a79dbd5-fda9-445d-fd93-58d4793c7ac5"
      },
      "execution_count": 129,
      "outputs": [
        {
          "output_type": "stream",
          "name": "stdout",
          "text": [
            "Logistic Regression : \n",
            "\n",
            "0.32203700700699184\n",
            "\n",
            "\n",
            "KNN : \n",
            "\n",
            "0.47737473481243303\n",
            "\n",
            "\n",
            "Random Forest : \n",
            "\n",
            "0.5201352952709172\n",
            "\n",
            "\n"
          ]
        }
      ]
    },
    {
      "cell_type": "markdown",
      "source": [
        "It turns out that `Random Forest` outperforms `Logistic Regression` and `K-Nearest Neighbors` in terms of f1-score."
      ],
      "metadata": {
        "id": "N7kBxO_yoGML"
      }
    },
    {
      "cell_type": "code",
      "source": [
        "# Check the ROC\n",
        "from sklearn.metrics import roc_curve\n",
        "from sklearn import metrics"
      ],
      "metadata": {
        "id": "Frxz_HI-od1r"
      },
      "execution_count": 123,
      "outputs": []
    },
    {
      "cell_type": "code",
      "source": [
        "# Use predict_proba to get the probability results of Random Forest\n",
        "y_pred = RF_gcv.best_estimator_.predict_proba(X_test)[:, 1]\n",
        "fpr_rf, tpr_rf, _ = roc_curve(y_test, y_pred)"
      ],
      "metadata": {
        "id": "y9p1MXrUodxE"
      },
      "execution_count": 136,
      "outputs": []
    },
    {
      "cell_type": "code",
      "source": [
        "import matplotlib.pyplot as plt\n",
        "\n",
        "plt.figure(1)\n",
        "plt.plot([0, 1], [0, 1])\n",
        "plt.plot(fpr_rf, tpr_rf, label='Random Forest ROC')\n",
        "plt.xlabel('False positive rate')\n",
        "plt.ylabel('True positive rate')\n",
        "plt.title('ROC curve - RF model')\n",
        "plt.legend(loc='best')\n",
        "plt.show()"
      ],
      "metadata": {
        "colab": {
          "base_uri": "https://localhost:8080/",
          "height": 295
        },
        "id": "0BY-INgcqlde",
        "outputId": "c276db94-4bd1-4bd2-ac32-90a078bdf943"
      },
      "execution_count": 137,
      "outputs": [
        {
          "output_type": "display_data",
          "data": {
            "text/plain": [
              "<Figure size 432x288 with 1 Axes>"
            ],
            "image/png": "[encoded data removed]"
          },
          "metadata": {
            "needs_background": "light"
          }
        }
      ]
    },
    {
      "cell_type": "code",
      "source": [
        "y_pred = LR_gcv.best_estimator_.predict_proba(X_test)[:, 1]\n",
        "fpr_lr, tpr_lr, _ = roc_curve(y_test, y_pred)\n",
        "\n",
        "plt.figure(1)\n",
        "plt.plot([0, 1], [0, 1])\n",
        "plt.plot(fpr_lr, tpr_lr, label='Logistic Regression ROC')\n",
        "plt.xlabel('False positive rate')\n",
        "plt.ylabel('True positive rate')\n",
        "plt.title('ROC curve - Logistic Regression model')\n",
        "plt.legend(loc='best')\n",
        "plt.show()"
      ],
      "metadata": {
        "colab": {
          "base_uri": "https://localhost:8080/",
          "height": 295
        },
        "id": "IWD69_VGrlI4",
        "outputId": "0703a3d6-3322-47cd-8226-e94be67f3ed5"
      },
      "execution_count": 140,
      "outputs": [
        {
          "output_type": "display_data",
          "data": {
            "text/plain": [
              "<Figure size 432x288 with 1 Axes>"
            ],
            "image/png": "[encoded data removed]"
          },
          "metadata": {
            "needs_background": "light"
          }
        }
      ]
    },
    {
      "cell_type": "markdown",
      "source": [
        "It looks like the ROC of random forest is more steep than the one of logistic regression. Let's check the AUC as well."
      ],
      "metadata": {
        "id": "UDVLVUJCsTU1"
      }
    },
    {
      "cell_type": "code",
      "source": [
        "# AUC scores\n",
        "print(\"Random Forest: \", metrics.auc(fpr_rf,tpr_rf))\n",
        "print(\"Logistic Regression: \", metrics.auc(fpr_lr,tpr_lr))"
      ],
      "metadata": {
        "colab": {
          "base_uri": "https://localhost:8080/"
        },
        "id": "d4BvsH8LslAS",
        "outputId": "e6d0207f-4f83-469d-ea45-f3930bf5e4e8"
      },
      "execution_count": 141,
      "outputs": [
        {
          "output_type": "stream",
          "name": "stdout",
          "text": [
            "Random Forest:  0.8398391978046592\n",
            "Logistic Regression:  0.7724662750550364\n"
          ]
        }
      ]
    },
    {
      "cell_type": "markdown",
      "source": [
        "We can see random forest has a higher AUC scores. Now, we confirm that given all the evaluation results, random forest is indeed the best among many of our training models."
      ],
      "metadata": {
        "id": "TNG_tVzMtHKo"
      }
    },
    {
      "cell_type": "markdown",
      "source": [
        "## Part 4: Feature Importance Analysis\n"
      ],
      "metadata": {
        "id": "EoNp8LzAFtFh"
      }
    },
    {
      "cell_type": "code",
      "source": [
        "importances = RF_gcv.best_estimator_.feature_importances_\n",
        "importances_normalized = importances/sum(importances)"
      ],
      "metadata": {
        "id": "c5WI1bOhkhLn"
      },
      "execution_count": 151,
      "outputs": []
    },
    {
      "cell_type": "code",
      "source": [
        "plt.figure()\n",
        "pd.DataFrame(importances_normalized, index = X_test.columns).plot.bar()\n",
        "plt.title('Normalized Importance of Features')"
      ],
      "metadata": {
        "colab": {
          "base_uri": "https://localhost:8080/",
          "height": 412
        },
        "id": "u2E-Kv7bzLyn",
        "outputId": "3554db5f-28cc-43b4-c812-e559828524f8"
      },
      "execution_count": 177,
      "outputs": [
        {
          "output_type": "execute_result",
          "data": {
            "text/plain": [
              "Text(0.5, 1.0, 'Normalized Importance of Features')"
            ]
          },
          "metadata": {},
          "execution_count": 177
        },
        {
          "output_type": "display_data",
          "data": {
            "text/plain": [
              "<Figure size 432x288 with 0 Axes>"
            ]
          },
          "metadata": {}
        },
        {
          "output_type": "display_data",
          "data": {
            "text/plain": [
              "<Figure size 432x288 with 1 Axes>"
            ],
            "image/png": "[encoded data removed]"
          },
          "metadata": {
            "needs_background": "light"
          }
        }
      ]
    }
  ]
}